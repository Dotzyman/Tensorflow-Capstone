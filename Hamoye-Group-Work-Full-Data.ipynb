{
 "cells": [
  {
   "cell_type": "code",
   "execution_count": 1,
   "id": "4d30bcc6",
   "metadata": {},
   "outputs": [],
   "source": [
    "import pandas as pd\n",
    "import numpy as np\n",
    "import matplotlib.pyplot as plt\n",
    "from statsmodels.graphics.tsaplots import plot_acf, plot_pacf\n",
    "#from statsmodels.tsa.statespace.varmax import VARMAX\n",
    "#from statsmodels.tsa.statespace.sarimax import SARIMAX\n",
    "#from statsmodels.tsa.api import VAR\n",
    "from statsmodels.tsa.arima.model import ARIMA\n",
    "from statsmodels.tsa.stattools import grangercausalitytests, adfuller\n",
    "from sklearn.metrics import mean_absolute_error, mean_squared_error"
   ]
  },
  {
   "cell_type": "code",
   "execution_count": 2,
   "id": "89bf9f79",
   "metadata": {
    "scrolled": true
   },
   "outputs": [
    {
     "data": {
      "text/html": [
       "<div>\n",
       "<style scoped>\n",
       "    .dataframe tbody tr th:only-of-type {\n",
       "        vertical-align: middle;\n",
       "    }\n",
       "\n",
       "    .dataframe tbody tr th {\n",
       "        vertical-align: top;\n",
       "    }\n",
       "\n",
       "    .dataframe thead th {\n",
       "        text-align: right;\n",
       "    }\n",
       "</style>\n",
       "<table border=\"1\" class=\"dataframe\">\n",
       "  <thead>\n",
       "    <tr style=\"text-align: right;\">\n",
       "      <th></th>\n",
       "      <th>Unnamed: 0</th>\n",
       "      <th>Time Serie</th>\n",
       "      <th>AUSTRALIA - AUSTRALIAN DOLLAR/US$</th>\n",
       "      <th>EURO AREA - EURO/US$</th>\n",
       "      <th>NEW ZEALAND - NEW ZELAND DOLLAR/US$</th>\n",
       "      <th>UNITED KINGDOM - UNITED KINGDOM POUND/US$</th>\n",
       "      <th>BRAZIL - REAL/US$</th>\n",
       "      <th>CANADA - CANADIAN DOLLAR/US$</th>\n",
       "      <th>CHINA - YUAN/US$</th>\n",
       "      <th>HONG KONG - HONG KONG DOLLAR/US$</th>\n",
       "      <th>...</th>\n",
       "      <th>SINGAPORE - SINGAPORE DOLLAR/US$</th>\n",
       "      <th>DENMARK - DANISH KRONE/US$</th>\n",
       "      <th>JAPAN - YEN/US$</th>\n",
       "      <th>MALAYSIA - RINGGIT/US$</th>\n",
       "      <th>NORWAY - NORWEGIAN KRONE/US$</th>\n",
       "      <th>SWEDEN - KRONA/US$</th>\n",
       "      <th>SRI LANKA - SRI LANKAN RUPEE/US$</th>\n",
       "      <th>SWITZERLAND - FRANC/US$</th>\n",
       "      <th>TAIWAN - NEW TAIWAN DOLLAR/US$</th>\n",
       "      <th>THAILAND - BAHT/US$</th>\n",
       "    </tr>\n",
       "  </thead>\n",
       "  <tbody>\n",
       "    <tr>\n",
       "      <th>0</th>\n",
       "      <td>0</td>\n",
       "      <td>2000-01-03</td>\n",
       "      <td>1.5172</td>\n",
       "      <td>0.9847</td>\n",
       "      <td>1.9033</td>\n",
       "      <td>0.6146</td>\n",
       "      <td>1.805</td>\n",
       "      <td>1.4465</td>\n",
       "      <td>8.2798</td>\n",
       "      <td>7.7765</td>\n",
       "      <td>...</td>\n",
       "      <td>1.6563</td>\n",
       "      <td>7.329</td>\n",
       "      <td>101.7</td>\n",
       "      <td>3.8</td>\n",
       "      <td>7.964</td>\n",
       "      <td>8.443</td>\n",
       "      <td>72.3</td>\n",
       "      <td>1.5808</td>\n",
       "      <td>31.38</td>\n",
       "      <td>36.97</td>\n",
       "    </tr>\n",
       "    <tr>\n",
       "      <th>1</th>\n",
       "      <td>1</td>\n",
       "      <td>2000-01-04</td>\n",
       "      <td>1.5239</td>\n",
       "      <td>0.97</td>\n",
       "      <td>1.9238</td>\n",
       "      <td>0.6109</td>\n",
       "      <td>1.8405</td>\n",
       "      <td>1.4518</td>\n",
       "      <td>8.2799</td>\n",
       "      <td>7.7775</td>\n",
       "      <td>...</td>\n",
       "      <td>1.6535</td>\n",
       "      <td>7.218</td>\n",
       "      <td>103.09</td>\n",
       "      <td>3.8</td>\n",
       "      <td>7.934</td>\n",
       "      <td>8.36</td>\n",
       "      <td>72.65</td>\n",
       "      <td>1.5565</td>\n",
       "      <td>30.6</td>\n",
       "      <td>37.13</td>\n",
       "    </tr>\n",
       "    <tr>\n",
       "      <th>2</th>\n",
       "      <td>2</td>\n",
       "      <td>2000-01-05</td>\n",
       "      <td>1.5267</td>\n",
       "      <td>0.9676</td>\n",
       "      <td>1.9339</td>\n",
       "      <td>0.6092</td>\n",
       "      <td>1.856</td>\n",
       "      <td>1.4518</td>\n",
       "      <td>8.2798</td>\n",
       "      <td>7.778</td>\n",
       "      <td>...</td>\n",
       "      <td>1.656</td>\n",
       "      <td>7.208</td>\n",
       "      <td>103.77</td>\n",
       "      <td>3.8</td>\n",
       "      <td>7.935</td>\n",
       "      <td>8.353</td>\n",
       "      <td>72.95</td>\n",
       "      <td>1.5526</td>\n",
       "      <td>30.8</td>\n",
       "      <td>37.1</td>\n",
       "    </tr>\n",
       "    <tr>\n",
       "      <th>3</th>\n",
       "      <td>3</td>\n",
       "      <td>2000-01-06</td>\n",
       "      <td>1.5291</td>\n",
       "      <td>0.9686</td>\n",
       "      <td>1.9436</td>\n",
       "      <td>0.607</td>\n",
       "      <td>1.84</td>\n",
       "      <td>1.4571</td>\n",
       "      <td>8.2797</td>\n",
       "      <td>7.7785</td>\n",
       "      <td>...</td>\n",
       "      <td>1.6655</td>\n",
       "      <td>7.2125</td>\n",
       "      <td>105.19</td>\n",
       "      <td>3.8</td>\n",
       "      <td>7.94</td>\n",
       "      <td>8.3675</td>\n",
       "      <td>72.95</td>\n",
       "      <td>1.554</td>\n",
       "      <td>31.75</td>\n",
       "      <td>37.62</td>\n",
       "    </tr>\n",
       "    <tr>\n",
       "      <th>4</th>\n",
       "      <td>4</td>\n",
       "      <td>2000-01-07</td>\n",
       "      <td>1.5272</td>\n",
       "      <td>0.9714</td>\n",
       "      <td>1.938</td>\n",
       "      <td>0.6104</td>\n",
       "      <td>1.831</td>\n",
       "      <td>1.4505</td>\n",
       "      <td>8.2794</td>\n",
       "      <td>7.7783</td>\n",
       "      <td>...</td>\n",
       "      <td>1.6625</td>\n",
       "      <td>7.2285</td>\n",
       "      <td>105.17</td>\n",
       "      <td>3.8</td>\n",
       "      <td>7.966</td>\n",
       "      <td>8.415</td>\n",
       "      <td>73.15</td>\n",
       "      <td>1.5623</td>\n",
       "      <td>30.85</td>\n",
       "      <td>37.3</td>\n",
       "    </tr>\n",
       "    <tr>\n",
       "      <th>...</th>\n",
       "      <td>...</td>\n",
       "      <td>...</td>\n",
       "      <td>...</td>\n",
       "      <td>...</td>\n",
       "      <td>...</td>\n",
       "      <td>...</td>\n",
       "      <td>...</td>\n",
       "      <td>...</td>\n",
       "      <td>...</td>\n",
       "      <td>...</td>\n",
       "      <td>...</td>\n",
       "      <td>...</td>\n",
       "      <td>...</td>\n",
       "      <td>...</td>\n",
       "      <td>...</td>\n",
       "      <td>...</td>\n",
       "      <td>...</td>\n",
       "      <td>...</td>\n",
       "      <td>...</td>\n",
       "      <td>...</td>\n",
       "      <td>...</td>\n",
       "    </tr>\n",
       "    <tr>\n",
       "      <th>5212</th>\n",
       "      <td>5212</td>\n",
       "      <td>2019-12-25</td>\n",
       "      <td>ND</td>\n",
       "      <td>ND</td>\n",
       "      <td>ND</td>\n",
       "      <td>ND</td>\n",
       "      <td>ND</td>\n",
       "      <td>ND</td>\n",
       "      <td>ND</td>\n",
       "      <td>ND</td>\n",
       "      <td>...</td>\n",
       "      <td>ND</td>\n",
       "      <td>ND</td>\n",
       "      <td>ND</td>\n",
       "      <td>ND</td>\n",
       "      <td>ND</td>\n",
       "      <td>ND</td>\n",
       "      <td>ND</td>\n",
       "      <td>ND</td>\n",
       "      <td>ND</td>\n",
       "      <td>ND</td>\n",
       "    </tr>\n",
       "    <tr>\n",
       "      <th>5213</th>\n",
       "      <td>5213</td>\n",
       "      <td>2019-12-26</td>\n",
       "      <td>1.4411</td>\n",
       "      <td>0.9007</td>\n",
       "      <td>1.5002</td>\n",
       "      <td>0.7688</td>\n",
       "      <td>4.0602</td>\n",
       "      <td>1.3124</td>\n",
       "      <td>6.9949</td>\n",
       "      <td>7.788</td>\n",
       "      <td>...</td>\n",
       "      <td>1.354</td>\n",
       "      <td>6.7295</td>\n",
       "      <td>109.67</td>\n",
       "      <td>4.1337</td>\n",
       "      <td>8.8799</td>\n",
       "      <td>9.4108</td>\n",
       "      <td>181.3</td>\n",
       "      <td>0.9808</td>\n",
       "      <td>30.11</td>\n",
       "      <td>30.15</td>\n",
       "    </tr>\n",
       "    <tr>\n",
       "      <th>5214</th>\n",
       "      <td>5214</td>\n",
       "      <td>2019-12-27</td>\n",
       "      <td>1.4331</td>\n",
       "      <td>0.8949</td>\n",
       "      <td>1.4919</td>\n",
       "      <td>0.7639</td>\n",
       "      <td>4.0507</td>\n",
       "      <td>1.3073</td>\n",
       "      <td>6.9954</td>\n",
       "      <td>7.7874</td>\n",
       "      <td>...</td>\n",
       "      <td>1.352</td>\n",
       "      <td>6.6829</td>\n",
       "      <td>109.47</td>\n",
       "      <td>4.126</td>\n",
       "      <td>8.8291</td>\n",
       "      <td>9.3405</td>\n",
       "      <td>181.35</td>\n",
       "      <td>0.9741</td>\n",
       "      <td>30.09</td>\n",
       "      <td>30.14</td>\n",
       "    </tr>\n",
       "    <tr>\n",
       "      <th>5215</th>\n",
       "      <td>5215</td>\n",
       "      <td>2019-12-30</td>\n",
       "      <td>1.4278</td>\n",
       "      <td>0.8915</td>\n",
       "      <td>1.4846</td>\n",
       "      <td>0.761</td>\n",
       "      <td>4.0152</td>\n",
       "      <td>1.3058</td>\n",
       "      <td>6.9864</td>\n",
       "      <td>7.7857</td>\n",
       "      <td>...</td>\n",
       "      <td>1.3483</td>\n",
       "      <td>6.6589</td>\n",
       "      <td>108.85</td>\n",
       "      <td>4.1053</td>\n",
       "      <td>8.7839</td>\n",
       "      <td>9.3145</td>\n",
       "      <td>181.6</td>\n",
       "      <td>0.9677</td>\n",
       "      <td>30.04</td>\n",
       "      <td>29.94</td>\n",
       "    </tr>\n",
       "    <tr>\n",
       "      <th>5216</th>\n",
       "      <td>5216</td>\n",
       "      <td>2019-12-31</td>\n",
       "      <td>1.4225</td>\n",
       "      <td>0.8907</td>\n",
       "      <td>1.4826</td>\n",
       "      <td>0.7536</td>\n",
       "      <td>4.019</td>\n",
       "      <td>1.2962</td>\n",
       "      <td>6.9618</td>\n",
       "      <td>7.7894</td>\n",
       "      <td>...</td>\n",
       "      <td>1.3446</td>\n",
       "      <td>6.6554</td>\n",
       "      <td>108.67</td>\n",
       "      <td>4.0918</td>\n",
       "      <td>8.7823</td>\n",
       "      <td>9.3425</td>\n",
       "      <td>181.3</td>\n",
       "      <td>0.9677</td>\n",
       "      <td>29.91</td>\n",
       "      <td>29.75</td>\n",
       "    </tr>\n",
       "  </tbody>\n",
       "</table>\n",
       "<p>5217 rows × 24 columns</p>\n",
       "</div>"
      ],
      "text/plain": [
       "      Unnamed: 0 Time Serie AUSTRALIA - AUSTRALIAN DOLLAR/US$  \\\n",
       "0              0 2000-01-03                            1.5172   \n",
       "1              1 2000-01-04                            1.5239   \n",
       "2              2 2000-01-05                            1.5267   \n",
       "3              3 2000-01-06                            1.5291   \n",
       "4              4 2000-01-07                            1.5272   \n",
       "...          ...        ...                               ...   \n",
       "5212        5212 2019-12-25                                ND   \n",
       "5213        5213 2019-12-26                            1.4411   \n",
       "5214        5214 2019-12-27                            1.4331   \n",
       "5215        5215 2019-12-30                            1.4278   \n",
       "5216        5216 2019-12-31                            1.4225   \n",
       "\n",
       "     EURO AREA - EURO/US$ NEW ZEALAND - NEW ZELAND DOLLAR/US$  \\\n",
       "0                  0.9847                              1.9033   \n",
       "1                    0.97                              1.9238   \n",
       "2                  0.9676                              1.9339   \n",
       "3                  0.9686                              1.9436   \n",
       "4                  0.9714                               1.938   \n",
       "...                   ...                                 ...   \n",
       "5212                   ND                                  ND   \n",
       "5213               0.9007                              1.5002   \n",
       "5214               0.8949                              1.4919   \n",
       "5215               0.8915                              1.4846   \n",
       "5216               0.8907                              1.4826   \n",
       "\n",
       "     UNITED KINGDOM - UNITED KINGDOM POUND/US$ BRAZIL - REAL/US$  \\\n",
       "0                                       0.6146             1.805   \n",
       "1                                       0.6109            1.8405   \n",
       "2                                       0.6092             1.856   \n",
       "3                                        0.607              1.84   \n",
       "4                                       0.6104             1.831   \n",
       "...                                        ...               ...   \n",
       "5212                                        ND                ND   \n",
       "5213                                    0.7688            4.0602   \n",
       "5214                                    0.7639            4.0507   \n",
       "5215                                     0.761            4.0152   \n",
       "5216                                    0.7536             4.019   \n",
       "\n",
       "     CANADA - CANADIAN DOLLAR/US$ CHINA - YUAN/US$  \\\n",
       "0                          1.4465           8.2798   \n",
       "1                          1.4518           8.2799   \n",
       "2                          1.4518           8.2798   \n",
       "3                          1.4571           8.2797   \n",
       "4                          1.4505           8.2794   \n",
       "...                           ...              ...   \n",
       "5212                           ND               ND   \n",
       "5213                       1.3124           6.9949   \n",
       "5214                       1.3073           6.9954   \n",
       "5215                       1.3058           6.9864   \n",
       "5216                       1.2962           6.9618   \n",
       "\n",
       "     HONG KONG - HONG KONG DOLLAR/US$  ... SINGAPORE - SINGAPORE DOLLAR/US$  \\\n",
       "0                              7.7765  ...                           1.6563   \n",
       "1                              7.7775  ...                           1.6535   \n",
       "2                               7.778  ...                            1.656   \n",
       "3                              7.7785  ...                           1.6655   \n",
       "4                              7.7783  ...                           1.6625   \n",
       "...                               ...  ...                              ...   \n",
       "5212                               ND  ...                               ND   \n",
       "5213                            7.788  ...                            1.354   \n",
       "5214                           7.7874  ...                            1.352   \n",
       "5215                           7.7857  ...                           1.3483   \n",
       "5216                           7.7894  ...                           1.3446   \n",
       "\n",
       "     DENMARK - DANISH KRONE/US$ JAPAN - YEN/US$ MALAYSIA - RINGGIT/US$  \\\n",
       "0                         7.329           101.7                    3.8   \n",
       "1                         7.218          103.09                    3.8   \n",
       "2                         7.208          103.77                    3.8   \n",
       "3                        7.2125          105.19                    3.8   \n",
       "4                        7.2285          105.17                    3.8   \n",
       "...                         ...             ...                    ...   \n",
       "5212                         ND              ND                     ND   \n",
       "5213                     6.7295          109.67                 4.1337   \n",
       "5214                     6.6829          109.47                  4.126   \n",
       "5215                     6.6589          108.85                 4.1053   \n",
       "5216                     6.6554          108.67                 4.0918   \n",
       "\n",
       "     NORWAY - NORWEGIAN KRONE/US$ SWEDEN - KRONA/US$  \\\n",
       "0                           7.964              8.443   \n",
       "1                           7.934               8.36   \n",
       "2                           7.935              8.353   \n",
       "3                            7.94             8.3675   \n",
       "4                           7.966              8.415   \n",
       "...                           ...                ...   \n",
       "5212                           ND                 ND   \n",
       "5213                       8.8799             9.4108   \n",
       "5214                       8.8291             9.3405   \n",
       "5215                       8.7839             9.3145   \n",
       "5216                       8.7823             9.3425   \n",
       "\n",
       "     SRI LANKA - SRI LANKAN RUPEE/US$ SWITZERLAND - FRANC/US$  \\\n",
       "0                                72.3                  1.5808   \n",
       "1                               72.65                  1.5565   \n",
       "2                               72.95                  1.5526   \n",
       "3                               72.95                   1.554   \n",
       "4                               73.15                  1.5623   \n",
       "...                               ...                     ...   \n",
       "5212                               ND                      ND   \n",
       "5213                            181.3                  0.9808   \n",
       "5214                           181.35                  0.9741   \n",
       "5215                            181.6                  0.9677   \n",
       "5216                            181.3                  0.9677   \n",
       "\n",
       "     TAIWAN - NEW TAIWAN DOLLAR/US$ THAILAND - BAHT/US$  \n",
       "0                             31.38               36.97  \n",
       "1                              30.6               37.13  \n",
       "2                              30.8                37.1  \n",
       "3                             31.75               37.62  \n",
       "4                             30.85                37.3  \n",
       "...                             ...                 ...  \n",
       "5212                             ND                  ND  \n",
       "5213                          30.11               30.15  \n",
       "5214                          30.09               30.14  \n",
       "5215                          30.04               29.94  \n",
       "5216                          29.91               29.75  \n",
       "\n",
       "[5217 rows x 24 columns]"
      ]
     },
     "execution_count": 2,
     "metadata": {},
     "output_type": "execute_result"
    }
   ],
   "source": [
    "data = pd.read_csv(\"Foreign_Exchange_Rates.csv\",parse_dates=['Time Serie'])# index_col=['Time Serie'])\n",
    "data"
   ]
  },
  {
   "cell_type": "code",
   "execution_count": 3,
   "id": "ac0d503a",
   "metadata": {
    "scrolled": true
   },
   "outputs": [
    {
     "name": "stdout",
     "output_type": "stream",
     "text": [
      "<class 'pandas.core.frame.DataFrame'>\n",
      "RangeIndex: 5217 entries, 0 to 5216\n",
      "Data columns (total 24 columns):\n",
      " #   Column                                     Non-Null Count  Dtype         \n",
      "---  ------                                     --------------  -----         \n",
      " 0   Unnamed: 0                                 5217 non-null   int64         \n",
      " 1   Time Serie                                 5217 non-null   datetime64[ns]\n",
      " 2   AUSTRALIA - AUSTRALIAN DOLLAR/US$          5217 non-null   object        \n",
      " 3   EURO AREA - EURO/US$                       5217 non-null   object        \n",
      " 4   NEW ZEALAND - NEW ZELAND DOLLAR/US$        5217 non-null   object        \n",
      " 5   UNITED KINGDOM - UNITED KINGDOM POUND/US$  5217 non-null   object        \n",
      " 6   BRAZIL - REAL/US$                          5217 non-null   object        \n",
      " 7   CANADA - CANADIAN DOLLAR/US$               5217 non-null   object        \n",
      " 8   CHINA - YUAN/US$                           5217 non-null   object        \n",
      " 9   HONG KONG - HONG KONG DOLLAR/US$           5217 non-null   object        \n",
      " 10  INDIA - INDIAN RUPEE/US$                   5217 non-null   object        \n",
      " 11  KOREA - WON/US$                            5217 non-null   object        \n",
      " 12  MEXICO - MEXICAN PESO/US$                  5217 non-null   object        \n",
      " 13  SOUTH AFRICA - RAND/US$                    5217 non-null   object        \n",
      " 14  SINGAPORE - SINGAPORE DOLLAR/US$           5217 non-null   object        \n",
      " 15  DENMARK - DANISH KRONE/US$                 5217 non-null   object        \n",
      " 16  JAPAN - YEN/US$                            5217 non-null   object        \n",
      " 17  MALAYSIA - RINGGIT/US$                     5217 non-null   object        \n",
      " 18  NORWAY - NORWEGIAN KRONE/US$               5217 non-null   object        \n",
      " 19  SWEDEN - KRONA/US$                         5217 non-null   object        \n",
      " 20  SRI LANKA - SRI LANKAN RUPEE/US$           5217 non-null   object        \n",
      " 21  SWITZERLAND - FRANC/US$                    5217 non-null   object        \n",
      " 22  TAIWAN - NEW TAIWAN DOLLAR/US$             5217 non-null   object        \n",
      " 23  THAILAND - BAHT/US$                        5217 non-null   object        \n",
      "dtypes: datetime64[ns](1), int64(1), object(22)\n",
      "memory usage: 978.3+ KB\n"
     ]
    }
   ],
   "source": [
    "data.info()"
   ]
  },
  {
   "cell_type": "code",
   "execution_count": null,
   "id": "c84d7c6d",
   "metadata": {},
   "outputs": [],
   "source": []
  },
  {
   "cell_type": "code",
   "execution_count": 4,
   "id": "51aa9123",
   "metadata": {},
   "outputs": [],
   "source": [
    "#data[[\"Time Serie\",\"CHINA - YUAN/US$\"]].nunique()"
   ]
  },
  {
   "cell_type": "code",
   "execution_count": 5,
   "id": "ce002f5a",
   "metadata": {},
   "outputs": [],
   "source": [
    "#data = data.drop_duplicates(subset=[\"CHINA - YUAN/US$\"])\n",
    "#data"
   ]
  },
  {
   "cell_type": "code",
   "execution_count": 6,
   "id": "ab6359f2",
   "metadata": {},
   "outputs": [],
   "source": [
    "#df = data.duplicated(subset=[\"CHINA - YUAN/US$\"]).to_frame()\n",
    "#df.head(5)"
   ]
  },
  {
   "cell_type": "code",
   "execution_count": 7,
   "id": "424eb1a2",
   "metadata": {},
   "outputs": [],
   "source": [
    "#df[df[0]==True]"
   ]
  },
  {
   "cell_type": "code",
   "execution_count": 8,
   "id": "542f428b",
   "metadata": {},
   "outputs": [],
   "source": [
    "#data[[\"Time Serie\",\"CHINA - YUAN/US$\"]].nunique()"
   ]
  },
  {
   "cell_type": "code",
   "execution_count": 9,
   "id": "9619f999",
   "metadata": {},
   "outputs": [
    {
     "data": {
      "text/html": [
       "<div>\n",
       "<style scoped>\n",
       "    .dataframe tbody tr th:only-of-type {\n",
       "        vertical-align: middle;\n",
       "    }\n",
       "\n",
       "    .dataframe tbody tr th {\n",
       "        vertical-align: top;\n",
       "    }\n",
       "\n",
       "    .dataframe thead th {\n",
       "        text-align: right;\n",
       "    }\n",
       "</style>\n",
       "<table border=\"1\" class=\"dataframe\">\n",
       "  <thead>\n",
       "    <tr style=\"text-align: right;\">\n",
       "      <th></th>\n",
       "      <th>Time Serie</th>\n",
       "      <th>CHINA - YUAN/US$</th>\n",
       "    </tr>\n",
       "  </thead>\n",
       "  <tbody>\n",
       "    <tr>\n",
       "      <th>0</th>\n",
       "      <td>2000-01-03</td>\n",
       "      <td>8.2798</td>\n",
       "    </tr>\n",
       "    <tr>\n",
       "      <th>1</th>\n",
       "      <td>2000-01-04</td>\n",
       "      <td>8.2799</td>\n",
       "    </tr>\n",
       "    <tr>\n",
       "      <th>2</th>\n",
       "      <td>2000-01-05</td>\n",
       "      <td>8.2798</td>\n",
       "    </tr>\n",
       "    <tr>\n",
       "      <th>3</th>\n",
       "      <td>2000-01-06</td>\n",
       "      <td>8.2797</td>\n",
       "    </tr>\n",
       "    <tr>\n",
       "      <th>4</th>\n",
       "      <td>2000-01-07</td>\n",
       "      <td>8.2794</td>\n",
       "    </tr>\n",
       "  </tbody>\n",
       "</table>\n",
       "</div>"
      ],
      "text/plain": [
       "  Time Serie CHINA - YUAN/US$\n",
       "0 2000-01-03           8.2798\n",
       "1 2000-01-04           8.2799\n",
       "2 2000-01-05           8.2798\n",
       "3 2000-01-06           8.2797\n",
       "4 2000-01-07           8.2794"
      ]
     },
     "execution_count": 9,
     "metadata": {},
     "output_type": "execute_result"
    }
   ],
   "source": [
    "df = data[[\"Time Serie\",\"CHINA - YUAN/US$\"]]\n",
    "df.head(5)"
   ]
  },
  {
   "cell_type": "code",
   "execution_count": 10,
   "id": "f2d6c28a",
   "metadata": {},
   "outputs": [],
   "source": [
    "df = df.replace(\"ND\", np.nan)\n",
    "df = df.fillna(method = \"ffill\")"
   ]
  },
  {
   "cell_type": "code",
   "execution_count": 11,
   "id": "1f35b988",
   "metadata": {},
   "outputs": [
    {
     "data": {
      "text/html": [
       "<div>\n",
       "<style scoped>\n",
       "    .dataframe tbody tr th:only-of-type {\n",
       "        vertical-align: middle;\n",
       "    }\n",
       "\n",
       "    .dataframe tbody tr th {\n",
       "        vertical-align: top;\n",
       "    }\n",
       "\n",
       "    .dataframe thead th {\n",
       "        text-align: right;\n",
       "    }\n",
       "</style>\n",
       "<table border=\"1\" class=\"dataframe\">\n",
       "  <thead>\n",
       "    <tr style=\"text-align: right;\">\n",
       "      <th></th>\n",
       "      <th>CHINA - YUAN/US$</th>\n",
       "    </tr>\n",
       "    <tr>\n",
       "      <th>Time Serie</th>\n",
       "      <th></th>\n",
       "    </tr>\n",
       "  </thead>\n",
       "  <tbody>\n",
       "    <tr>\n",
       "      <th>2000-01-03</th>\n",
       "      <td>8.2798</td>\n",
       "    </tr>\n",
       "    <tr>\n",
       "      <th>2000-01-04</th>\n",
       "      <td>8.2799</td>\n",
       "    </tr>\n",
       "    <tr>\n",
       "      <th>2000-01-05</th>\n",
       "      <td>8.2798</td>\n",
       "    </tr>\n",
       "    <tr>\n",
       "      <th>2000-01-06</th>\n",
       "      <td>8.2797</td>\n",
       "    </tr>\n",
       "    <tr>\n",
       "      <th>2000-01-07</th>\n",
       "      <td>8.2794</td>\n",
       "    </tr>\n",
       "    <tr>\n",
       "      <th>...</th>\n",
       "      <td>...</td>\n",
       "    </tr>\n",
       "    <tr>\n",
       "      <th>2019-12-25</th>\n",
       "      <td>7.0064</td>\n",
       "    </tr>\n",
       "    <tr>\n",
       "      <th>2019-12-26</th>\n",
       "      <td>6.9949</td>\n",
       "    </tr>\n",
       "    <tr>\n",
       "      <th>2019-12-27</th>\n",
       "      <td>6.9954</td>\n",
       "    </tr>\n",
       "    <tr>\n",
       "      <th>2019-12-30</th>\n",
       "      <td>6.9864</td>\n",
       "    </tr>\n",
       "    <tr>\n",
       "      <th>2019-12-31</th>\n",
       "      <td>6.9618</td>\n",
       "    </tr>\n",
       "  </tbody>\n",
       "</table>\n",
       "<p>5217 rows × 1 columns</p>\n",
       "</div>"
      ],
      "text/plain": [
       "           CHINA - YUAN/US$\n",
       "Time Serie                 \n",
       "2000-01-03           8.2798\n",
       "2000-01-04           8.2799\n",
       "2000-01-05           8.2798\n",
       "2000-01-06           8.2797\n",
       "2000-01-07           8.2794\n",
       "...                     ...\n",
       "2019-12-25           7.0064\n",
       "2019-12-26           6.9949\n",
       "2019-12-27           6.9954\n",
       "2019-12-30           6.9864\n",
       "2019-12-31           6.9618\n",
       "\n",
       "[5217 rows x 1 columns]"
      ]
     },
     "execution_count": 11,
     "metadata": {},
     "output_type": "execute_result"
    }
   ],
   "source": [
    "df[\"Time Serie\"] = pd.to_datetime(df[\"Time Serie\"], format= \"%Y-%m-%d\")\n",
    "df.set_index(\"Time Serie\", inplace = True)\n",
    "\n",
    "#Resample and ffil missing data\n",
    "#df[\"CHINA - YUAN/US$\"] = df[\"CHINA - YUAN/US$\"].resample(\"24H\").mean().fillna(method=\"ffill\")\n",
    "\n",
    "#Remove null values\n",
    "df.dropna(inplace=True)\n",
    "df"
   ]
  },
  {
   "cell_type": "code",
   "execution_count": 12,
   "id": "1f4695df",
   "metadata": {},
   "outputs": [],
   "source": [
    "df[\"CHINA - YUAN/US$\"] = df[\"CHINA - YUAN/US$\"].astype(float)"
   ]
  },
  {
   "cell_type": "code",
   "execution_count": 13,
   "id": "142413fc",
   "metadata": {},
   "outputs": [
    {
     "data": {
      "text/plain": [
       "(5217, 1)"
      ]
     },
     "execution_count": 13,
     "metadata": {},
     "output_type": "execute_result"
    }
   ],
   "source": [
    "df.shape"
   ]
  },
  {
   "cell_type": "markdown",
   "id": "d93de8fc",
   "metadata": {},
   "source": [
    "##### EDA"
   ]
  },
  {
   "cell_type": "code",
   "execution_count": 14,
   "id": "6cf1731f",
   "metadata": {},
   "outputs": [
    {
     "data": {
      "text/plain": [
       "<Axes: xlabel='Time Serie'>"
      ]
     },
     "execution_count": 14,
     "metadata": {},
     "output_type": "execute_result"
    },
    {
     "data": {
      "image/png": "[encoded data removed]",
      "text/plain": [
       "<Figure size 640x480 with 1 Axes>"
      ]
     },
     "metadata": {},
     "output_type": "display_data"
    }
   ],
   "source": [
    "#Trend of China-Yuan/US$ over time \n",
    "df[\"CHINA - YUAN/US$\"].plot.line(x =df.index,  y = \"CHINA - YUAN/US$\")"
   ]
  },
  {
   "cell_type": "code",
   "execution_count": 15,
   "id": "0aa72db2",
   "metadata": {},
   "outputs": [
    {
     "data": {
      "text/plain": [
       "<Axes: xlabel='CHINA-YUAN/US$', ylabel='Hours In Weeks'>"
      ]
     },
     "execution_count": 15,
     "metadata": {},
     "output_type": "execute_result"
    },
    {
     "data": {
      "image/png": "[encoded data removed]",
      "text/plain": [
       "<Figure size 1500x600 with 1 Axes>"
      ]
     },
     "metadata": {},
     "output_type": "display_data"
    }
   ],
   "source": [
    "fig, ax = plt.subplots(figsize=(15, 6))\n",
    "df[\"CHINA - YUAN/US$\"].rolling(168).mean().plot(ax=ax, xlabel= \"CHINA-YUAN/US$\", ylabel=\"Hours In Weeks\")"
   ]
  },
  {
   "cell_type": "code",
   "execution_count": 16,
   "id": "42641e8e",
   "metadata": {},
   "outputs": [
    {
     "data": {
      "image/png": "[encoded data removed]",
      "text/plain": [
       "<Figure size 1500x600 with 1 Axes>"
      ]
     },
     "execution_count": 16,
     "metadata": {},
     "output_type": "execute_result"
    },
    {
     "data": {
      "image/png": "[encoded data removed]",
      "text/plain": [
       "<Figure size 1500x600 with 1 Axes>"
      ]
     },
     "metadata": {},
     "output_type": "display_data"
    }
   ],
   "source": [
    "# Create an ACF plot\n",
    "fig, ax = plt.subplots(figsize=(15, 6))\n",
    "plot_acf(df, ax=ax)"
   ]
  },
  {
   "cell_type": "code",
   "execution_count": 17,
   "id": "6775d334",
   "metadata": {},
   "outputs": [
    {
     "name": "stderr",
     "output_type": "stream",
     "text": [
      "C:\\Users\\HP\\anaconda3\\lib\\site-packages\\statsmodels\\graphics\\tsaplots.py:348: FutureWarning: The default method 'yw' can produce PACF values outside of the [-1,1] interval. After 0.13, the default will change tounadjusted Yule-Walker ('ywm'). You can use this method now by setting method='ywm'.\n",
      "  warnings.warn(\n"
     ]
    },
    {
     "data": {
      "image/png": "[encoded data removed]",
      "text/plain": [
       "<Figure size 1500x600 with 1 Axes>"
      ]
     },
     "execution_count": 17,
     "metadata": {},
     "output_type": "execute_result"
    },
    {
     "data": {
      "image/png": "[encoded data removed]",
      "text/plain": [
       "<Figure size 1500x600 with 1 Axes>"
      ]
     },
     "metadata": {},
     "output_type": "display_data"
    }
   ],
   "source": [
    "# Create a PACF plot\n",
    "fig, ax = plt.subplots(figsize=(15, 6))\n",
    "plot_pacf(df, ax=ax)"
   ]
  },
  {
   "cell_type": "markdown",
   "id": "7bdb02e1",
   "metadata": {},
   "source": [
    "##### Split"
   ]
  },
  {
   "cell_type": "code",
   "execution_count": 18,
   "id": "e9a7aaf6",
   "metadata": {},
   "outputs": [],
   "source": [
    "#df.index = df.index.to_period('24H')\n",
    "#train_ratio = 0.7\n",
    "#val_ratio = 0.15\n",
    "#test_ratio = 0.15\n",
    "#\n",
    "## Calculate the split points\n",
    "#num_samples = len(df)\n",
    "#train_split = int(train_ratio * num_samples)\n",
    "#val_split = int((train_ratio + val_ratio) * num_samples)\n",
    "#\n",
    "## Split the data\n",
    "#y_train = df.iloc[:train_split]\n",
    "#y_val = df.iloc[train_split:val_split]\n",
    "#y_test = df.iloc[val_split:]"
   ]
  },
  {
   "cell_type": "code",
   "execution_count": 19,
   "id": "30ce6181",
   "metadata": {},
   "outputs": [],
   "source": [
    "df.index = df.index.to_period('24H')\n",
    "cutoff = int(len(df.values)*0.8)\n",
    "\n",
    "y_train = df.iloc[:cutoff]\n",
    "y_test = df.iloc[cutoff:]"
   ]
  },
  {
   "cell_type": "code",
   "execution_count": 20,
   "id": "b4cb6df1",
   "metadata": {},
   "outputs": [
    {
     "data": {
      "text/plain": [
       "(4173, 1044)"
      ]
     },
     "execution_count": 20,
     "metadata": {},
     "output_type": "execute_result"
    }
   ],
   "source": [
    "len(y_train), len(y_test)"
   ]
  },
  {
   "cell_type": "code",
   "execution_count": 21,
   "id": "bb0fb994",
   "metadata": {},
   "outputs": [
    {
     "data": {
      "text/plain": [
       "5217"
      ]
     },
     "execution_count": 21,
     "metadata": {},
     "output_type": "execute_result"
    }
   ],
   "source": [
    "len(df)"
   ]
  },
  {
   "cell_type": "code",
   "execution_count": 22,
   "id": "d145d3ee",
   "metadata": {},
   "outputs": [
    {
     "name": "stdout",
     "output_type": "stream",
     "text": [
      "This is MAE_baseline Score: 0.8279382729997349\n",
      "This is RSME_baseline Score: 0.8719061951583793\n"
     ]
    }
   ],
   "source": [
    "#baseline model\n",
    "y_mean = y_train.mean()\n",
    "y_pred_baseline =[y_mean] * len(y_train)\n",
    "mae_baseline = mean_absolute_error(y_train, y_pred_baseline)\n",
    "rmse_baseline = np.sqrt(mean_squared_error(y_train, y_pred_baseline))\n",
    "print(\"This is MAE_baseline Score:\", mae_baseline)\n",
    "print(\"This is RSME_baseline Score:\", rmse_baseline)"
   ]
  },
  {
   "cell_type": "markdown",
   "id": "08168a77",
   "metadata": {},
   "source": [
    "##### Iterate"
   ]
  },
  {
   "cell_type": "code",
   "execution_count": 23,
   "id": "c102cdfb",
   "metadata": {},
   "outputs": [],
   "source": [
    "import time"
   ]
  },
  {
   "cell_type": "code",
   "execution_count": 24,
   "id": "ee5d353f",
   "metadata": {},
   "outputs": [],
   "source": [
    "p_params = range(0, 20,5)\n",
    "q_params = range(0,3,1)"
   ]
  },
  {
   "cell_type": "code",
   "execution_count": 25,
   "id": "dc03b4de",
   "metadata": {},
   "outputs": [
    {
     "name": "stdout",
     "output_type": "stream",
     "text": [
      "Trained ARIMA(0, 0, 0) in 1.02 seconds\n"
     ]
    },
    {
     "name": "stderr",
     "output_type": "stream",
     "text": [
      "C:\\Users\\HP\\anaconda3\\lib\\site-packages\\statsmodels\\tsa\\statespace\\sarimax.py:978: UserWarning: Non-invertible starting MA parameters found. Using zeros as starting parameters.\n",
      "  warn('Non-invertible starting MA parameters found.'\n"
     ]
    },
    {
     "name": "stdout",
     "output_type": "stream",
     "text": [
      "Trained ARIMA(0, 0, 1) in 1.59 seconds\n",
      "Trained ARIMA(0, 0, 2) in 3.65 seconds\n",
      "Trained ARIMA(5, 0, 0) in 1.24 seconds\n",
      "Trained ARIMA(5, 0, 1) in 2.86 seconds\n",
      "Trained ARIMA(5, 0, 2) in 4.62 seconds\n"
     ]
    },
    {
     "name": "stderr",
     "output_type": "stream",
     "text": [
      "C:\\Users\\HP\\anaconda3\\lib\\site-packages\\statsmodels\\base\\model.py:604: ConvergenceWarning: Maximum Likelihood optimization failed to converge. Check mle_retvals\n",
      "  warnings.warn(\"Maximum Likelihood optimization failed to \"\n"
     ]
    },
    {
     "name": "stdout",
     "output_type": "stream",
     "text": [
      "Trained ARIMA(10, 0, 0) in 11.26 seconds\n",
      "Trained ARIMA(10, 0, 1) in 6.17 seconds\n",
      "Trained ARIMA(10, 0, 2) in 6.81 seconds\n",
      "Trained ARIMA(15, 0, 0) in 8.77 seconds\n"
     ]
    },
    {
     "name": "stderr",
     "output_type": "stream",
     "text": [
      "C:\\Users\\HP\\anaconda3\\lib\\site-packages\\statsmodels\\base\\model.py:604: ConvergenceWarning: Maximum Likelihood optimization failed to converge. Check mle_retvals\n",
      "  warnings.warn(\"Maximum Likelihood optimization failed to \"\n"
     ]
    },
    {
     "name": "stdout",
     "output_type": "stream",
     "text": [
      "Trained ARIMA(15, 0, 1) in 23.73 seconds\n",
      "Trained ARIMA(15, 0, 2) in 12.61 seconds\n"
     ]
    }
   ],
   "source": [
    "#Create empty dictionary for Mae\n",
    "mae_grid = {}\n",
    "for p in p_params:\n",
    "    # Create new key in dictionary with empty list\n",
    "    mae_grid[p] = []\n",
    "    for q in q_params:\n",
    "        # Set Hyperparameter for model\n",
    "        order = (p,0,q)\n",
    "        # Start timing\n",
    "        start_time = time.time()\n",
    "        # Train Model\n",
    "        model = ARIMA(y_train, order = order).fit()\n",
    "        # Generate Elapse time\n",
    "        elapse_time = round(time.time()-start_time,2)\n",
    "        print(f\"Trained ARIMA{order} in {elapse_time} seconds\")\n",
    "        # In sample prediction\n",
    "        y_pred = model.predict()\n",
    "        # Calculate training MAE\n",
    "        Mae = mean_absolute_error(y_train, y_pred)\n",
    "        #Add MAE to dictionary\n",
    "        mae_grid[p].append(Mae)"
   ]
  },
  {
   "cell_type": "code",
   "execution_count": 26,
   "id": "72e16f42",
   "metadata": {},
   "outputs": [
    {
     "data": {
      "text/html": [
       "<div>\n",
       "<style scoped>\n",
       "    .dataframe tbody tr th:only-of-type {\n",
       "        vertical-align: middle;\n",
       "    }\n",
       "\n",
       "    .dataframe tbody tr th {\n",
       "        vertical-align: top;\n",
       "    }\n",
       "\n",
       "    .dataframe thead th {\n",
       "        text-align: right;\n",
       "    }\n",
       "</style>\n",
       "<table border=\"1\" class=\"dataframe\">\n",
       "  <thead>\n",
       "    <tr style=\"text-align: right;\">\n",
       "      <th></th>\n",
       "      <th>0</th>\n",
       "      <th>5</th>\n",
       "      <th>10</th>\n",
       "      <th>15</th>\n",
       "    </tr>\n",
       "  </thead>\n",
       "  <tbody>\n",
       "    <tr>\n",
       "      <th>0</th>\n",
       "      <td>0.827938</td>\n",
       "      <td>0.003317</td>\n",
       "      <td>0.003327</td>\n",
       "      <td>0.003327</td>\n",
       "    </tr>\n",
       "    <tr>\n",
       "      <th>1</th>\n",
       "      <td>0.415223</td>\n",
       "      <td>0.003322</td>\n",
       "      <td>0.003359</td>\n",
       "      <td>0.003353</td>\n",
       "    </tr>\n",
       "    <tr>\n",
       "      <th>2</th>\n",
       "      <td>0.219940</td>\n",
       "      <td>0.003388</td>\n",
       "      <td>0.003347</td>\n",
       "      <td>0.003343</td>\n",
       "    </tr>\n",
       "  </tbody>\n",
       "</table>\n",
       "</div>"
      ],
      "text/plain": [
       "         0         5         10        15\n",
       "0  0.827938  0.003317  0.003327  0.003327\n",
       "1  0.415223  0.003322  0.003359  0.003353\n",
       "2  0.219940  0.003388  0.003347  0.003343"
      ]
     },
     "execution_count": 26,
     "metadata": {},
     "output_type": "execute_result"
    }
   ],
   "source": [
    "df_mae = pd.DataFrame(mae_grid)\n",
    "df_mae"
   ]
  },
  {
   "cell_type": "markdown",
   "id": "0f2eb947",
   "metadata": {},
   "source": [
    "#####  Evaluate"
   ]
  },
  {
   "cell_type": "code",
   "execution_count": 28,
   "id": "7ddd2823",
   "metadata": {},
   "outputs": [
    {
     "name": "stderr",
     "output_type": "stream",
     "text": [
      "C:\\Users\\HP\\AppData\\Local\\Temp\\ipykernel_16892\\1100445031.py:1: FutureWarning: The default dtype for empty Series will be 'object' instead of 'float64' in a future version. Specify a dtype explicitly to silence this warning.\n",
      "  y_pred_wfv = pd.Series()\n"
     ]
    }
   ],
   "source": [
    "y_pred_wfv = pd.Series()\n",
    "for i in range(len(y_test)):\n",
    "    model = ARIMA(y_train, order = (5,0,0)).fit()\n",
    "    next_pred = model.forecast(steps = len(y_test))\n",
    "    y_pred_wfv = pd.Series(next_pred)\n",
    "    y_pred_wfv"
   ]
  },
  {
   "cell_type": "code",
   "execution_count": 29,
   "id": "8f709144",
   "metadata": {},
   "outputs": [
    {
     "data": {
      "text/plain": [
       "2011-06-07 00:00    6.489258\n",
       "2011-06-08 00:00    6.489074\n",
       "2011-06-09 00:00    6.489933\n",
       "2011-06-10 00:00    6.489827\n",
       "2011-06-11 00:00    6.489863\n",
       "                      ...   \n",
       "2014-04-11 00:00    6.546462\n",
       "2014-04-12 00:00    6.546515\n",
       "2014-04-13 00:00    6.546568\n",
       "2014-04-14 00:00    6.546620\n",
       "2014-04-15 00:00    6.546673\n",
       "Freq: 24H, Name: predicted_mean, Length: 1044, dtype: float64"
      ]
     },
     "execution_count": 29,
     "metadata": {},
     "output_type": "execute_result"
    }
   ],
   "source": [
    " y_pred_wfv"
   ]
  },
  {
   "cell_type": "code",
   "execution_count": 30,
   "id": "e80baef7",
   "metadata": {},
   "outputs": [
    {
     "data": {
      "text/plain": [
       "0.2518563729232772"
      ]
     },
     "execution_count": 30,
     "metadata": {},
     "output_type": "execute_result"
    }
   ],
   "source": [
    "# Calculate MAE\n",
    "test_mae = mean_absolute_error(y_test, y_pred_wfv)\n",
    "test_mae"
   ]
  },
  {
   "cell_type": "code",
   "execution_count": 31,
   "id": "09685c47",
   "metadata": {},
   "outputs": [
    {
     "data": {
      "text/plain": [
       "0.29352983893871537"
      ]
     },
     "execution_count": 31,
     "metadata": {},
     "output_type": "execute_result"
    }
   ],
   "source": [
    "# Calculate RMSE\n",
    "np.sqrt(mean_squared_error(y_test, y_pred_wfv))"
   ]
  },
  {
   "cell_type": "code",
   "execution_count": null,
   "id": "8ce51552",
   "metadata": {},
   "outputs": [],
   "source": []
  }
 ],
 "metadata": {
  "kernelspec": {
   "display_name": "Python 3 (ipykernel)",
   "language": "python",
   "name": "python3"
  },
  "language_info": {
   "codemirror_mode": {
    "name": "ipython",
    "version": 3
   },
   "file_extension": ".py",
   "mimetype": "text/x-python",
   "name": "python",
   "nbconvert_exporter": "python",
   "pygments_lexer": "ipython3",
   "version": "3.10.9"
  }
 },
 "nbformat": 4,
 "nbformat_minor": 5
}
